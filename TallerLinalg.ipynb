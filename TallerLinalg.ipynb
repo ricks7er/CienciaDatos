{
 "cells": [
  {
   "cell_type": "markdown",
   "metadata": {},
   "source": [
    "# Desmostración de Linalg en Python #\n",
    "### Diego Correa ###\n",
    "### Jose Ortega ###\n",
    "\n",
    "La librería **linalg** que se encuentra en **numpy** se especializa en algebra lineal con matrices y vectores provistos por numpy."
   ]
  },
  {
   "cell_type": "markdown",
   "metadata": {},
   "source": [
    "## Determinante de una matriz ##\n",
    "Dentro de linalg la funciona para calcular el determinante es _det_ la cual recibe como argumento la matriz sobre la cual se va a operar\n",
    "Ejemplo:\n",
    "```python\n",
    "import numpy as np\n",
    "a = np.array([[25, 35, 12, 4], [23, 74, 2, 64], [89, 4, 23, 56], [48, 17, 6, 99]])\n",
    "```"
   ]
  },
  {
   "cell_type": "code",
   "execution_count": 30,
   "metadata": {},
   "outputs": [
    {
     "name": "stdout",
     "output_type": "stream",
     "text": [
      "a:\n",
      "[[25 35 12  4]\n",
      " [23 74  2 64]\n",
      " [89  4 23 56]\n",
      " [48 17  6 99]]\n"
     ]
    }
   ],
   "source": [
    "import numpy as np\n",
    "a = np.array([[25, 35, 12, 4], [23, 74, 2, 64], [89, 4, 23, 56], [48, 17, 6, 99]])\n",
    "print(\"a:\")\n",
    "print(a)"
   ]
  },
  {
   "cell_type": "markdown",
   "metadata": {},
   "source": [
    "```python\n",
    "# Para usar linalg se pude invocar desde la referencia que se tiene de numpy\n",
    "d = np.linalg.det(a)\n",
    "# o usar un nuevo alias para linalg y luego usarlo\n",
    "import numpy.linalg as ln\n",
    "d = ln.det(a)\n",
    "```"
   ]
  },
  {
   "cell_type": "code",
   "execution_count": 32,
   "metadata": {},
   "outputs": [
    {
     "name": "stdout",
     "output_type": "stream",
     "text": [
      "d = -1547321.0\n"
     ]
    }
   ],
   "source": [
    "import numpy.linalg as ln\n",
    "d = ln.det(a)\n",
    "print(\"d = \"+str(d))"
   ]
  },
  {
   "cell_type": "markdown",
   "metadata": {},
   "source": [
    "## Valores propios de una matriz ##\n",
    "Para calcular los valores propios de una matriz linalg ofrece la funcion _eigvals_ la cual recibe una matriz sobre la cual se va a operar.\n",
    "\n",
    "Ejemplo:\n",
    "```python\n",
    "a = np.array([[25, 35, 12, 4], [23, 74, 2, 64], [89, 4, 23, 56], [48, 17, 6, 99]])\n",
    "b = ln.eigvals(a)\n",
    "```"
   ]
  },
  {
   "cell_type": "code",
   "execution_count": 36,
   "metadata": {
    "scrolled": true
   },
   "outputs": [
    {
     "name": "stdout",
     "output_type": "stream",
     "text": [
      "Valores propios de a:\n",
      "[ 143.53403049 +0.j           -5.31345822 +0.j           41.38971387+17.76889942j\n",
      "   41.38971387-17.76889942j]\n"
     ]
    }
   ],
   "source": [
    "print(\"Valores propios de a:\")\n",
    "print(ln.eigvals(a))"
   ]
  },
  {
   "cell_type": "markdown",
   "metadata": {},
   "source": [
    "## Solucion a sistemas de ecuaciones ##\n",
    "Para resolver sistemas de ecuaciones lineales linalg ofrece la funcion _solve_ la cual recibe como primer parametro las matrices de los coeficientes del sistema y como segundo los valores de cada ecuacion, y su retorno es el vector de valores para las incognitas en la ecuacion:\n",
    "\n",
    "Ejemplo:\n",
    "\n",
    "$ 2x_{1} + x_{2} + x_{3} = 5 $\n",
    "\n",
    "$ 4x_{2} - 6x_{3} = -2 $\n",
    "\n",
    "$ -2x_{1} + 7x_{2} + 2x_{3} = 9 $\n",
    "\n",
    "Este sistema de ecuaciones se puede representar en numpy como:\n",
    "\n",
    "```python\n",
    "A = np.array([[2, 1, 1], [0, 4, -6], [-2, 7, 2]])\n",
    "b = np.array([5, -2, 9])\n",
    "```\n",
    "\n",
    "\n"
   ]
  },
  {
   "cell_type": "code",
   "execution_count": 38,
   "metadata": {},
   "outputs": [
    {
     "name": "stdout",
     "output_type": "stream",
     "text": [
      "Matriz de coeficientes: \n",
      "[[ 2  1  1]\n",
      " [ 0  4 -6]\n",
      " [-2  7  2]]\n",
      "Vector de valores por ecuacion\n",
      "[ 5 -2  9]\n"
     ]
    }
   ],
   "source": [
    "A = np.array([[2, 1, 1], [0, 4, -6], [-2, 7, 2]])\n",
    "b = np.array([5, -2, 9])\n",
    "print(\"Matriz de coeficientes: \")\n",
    "print(A)\n",
    "print(\"Vector de valores por ecuacion\")\n",
    "print(b)"
   ]
  },
  {
   "cell_type": "code",
   "execution_count": 39,
   "metadata": {},
   "outputs": [
    {
     "name": "stdout",
     "output_type": "stream",
     "text": [
      "Vector de valores de solucion:\n",
      "[ 1.25  1.3   1.2 ]\n"
     ]
    }
   ],
   "source": [
    "X = ln.solve(A,b)\n",
    "print(\"Vector de valores de solucion:\")\n",
    "print(X)"
   ]
  },
  {
   "cell_type": "markdown",
   "metadata": {},
   "source": [
    "## Factorizacion QR ##\n",
    "La descomposición o factorización QR de una matriz es una descomposición de la misma como producto de una matriz ortogonal por una triangular superior. Dentro de linalg la funcion para realizar esta operacion es _qr_ que recibe como primer argumento la matriz que se quiere factorizar.\n",
    "\n",
    "Ejemplo:\n",
    "```python\n",
    "import numpy as np\n",
    "a = np.array([[25, 35, 12, 4], [23, 74, 2, 64], [89, 4, 23, 56], [48, 17, 6, 99]])\n",
    "import numpy.linalg as ln\n",
    "q, r = ln.qr(a)\n",
    "```"
   ]
  },
  {
   "cell_type": "code",
   "execution_count": 28,
   "metadata": {},
   "outputs": [
    {
     "name": "stdout",
     "output_type": "stream",
     "text": [
      "q:\n",
      "[[-0.23436241 -0.35230687  0.75173493  0.50581492]\n",
      " [-0.21561342 -0.87436864 -0.22790461 -0.37020241]\n",
      " [-0.83433019  0.33334033  0.16882729 -0.40530817]\n",
      " [-0.44997583 -0.01560705 -0.59535824  0.66545228]]\n",
      "r:\n",
      "[[-106.67239568  -35.14498738  -25.13302512 -106.00680643]\n",
      " [   0.          -75.96597832    1.59676546  -40.24686042]\n",
      " [   0.            0.            8.87588804  -61.06509338]\n",
      " [   0.            0.            0.           21.51282381]]\n"
     ]
    }
   ],
   "source": [
    "q, r = ln.qr(a)\n",
    "print(\"q:\")\n",
    "print(q)\n",
    "print(\"r:\")\n",
    "print(r)"
   ]
  },
  {
   "cell_type": "markdown",
   "metadata": {},
   "source": [
    "La funcion _qr_ retorna dos matrices: q como la matriz ortogonal de la factorizacion y r como la matriz triangular superior de la factorizacion.\n",
    "Si se quiere verificar esta operacion se puede usar la funcion de numpy _matmul_ con la cual se pueden multiplicar dos matrices de forma sencilla\n",
    "```python\n",
    "c = np.matmul(q,r)\n",
    "```"
   ]
  },
  {
   "cell_type": "code",
   "execution_count": 35,
   "metadata": {},
   "outputs": [
    {
     "name": "stdout",
     "output_type": "stream",
     "text": [
      "q x r\n",
      "[[ 25.  35.  12.   4.]\n",
      " [ 23.  74.   2.  64.]\n",
      " [ 89.   4.  23.  56.]\n",
      " [ 48.  17.   6.  99.]]\n"
     ]
    }
   ],
   "source": [
    "print(\"q x r\")\n",
    "print(np.matmul(q,r))"
   ]
  }
 ],
 "metadata": {
  "kernelspec": {
   "display_name": "Python 3",
   "language": "python",
   "name": "python3"
  },
  "language_info": {
   "codemirror_mode": {
    "name": "ipython",
    "version": 3
   },
   "file_extension": ".py",
   "mimetype": "text/x-python",
   "name": "python",
   "nbconvert_exporter": "python",
   "pygments_lexer": "ipython3",
   "version": "3.6.3"
  }
 },
 "nbformat": 4,
 "nbformat_minor": 2
}
