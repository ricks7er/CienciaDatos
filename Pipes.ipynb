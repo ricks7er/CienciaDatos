{
  "nbformat": 4,
  "nbformat_minor": 0,
  "metadata": {
    "colab": {
      "name": "Pipes.ipynb",
      "version": "0.3.2",
      "provenance": [],
      "include_colab_link": true
    },
    "kernelspec": {
      "display_name": "Python 3",
      "language": "python",
      "name": "python3"
    }
  },
  "cells": [
    {
      "cell_type": "markdown",
      "metadata": {
        "id": "view-in-github",
        "colab_type": "text"
      },
      "source": [
        "[View in Colaboratory](https://colab.research.google.com/github/ricks7er/CienciaDatos/blob/master/Pipes.ipynb)"
      ]
    },
    {
      "metadata": {
        "id": "Ar70m3A7_YmK",
        "colab_type": "code",
        "colab": {}
      },
      "cell_type": "code",
      "source": [
        "import numpy as np\n",
        "import pandas as pd"
      ],
      "execution_count": 0,
      "outputs": []
    },
    {
      "metadata": {
        "id": "Wx6bBnUJ_YmQ",
        "colab_type": "text"
      },
      "cell_type": "markdown",
      "source": [
        "Taller funciones sobre dataframes\n",
        "\n",
        "Diego Alejandro Correa Ramirez - 20141020021\n",
        "Jose Ricardo Ortega Ramirez - 20142020007"
      ]
    },
    {
      "metadata": {
        "id": "uozI-MR0_YmS",
        "colab_type": "text"
      },
      "cell_type": "markdown",
      "source": [
        "Crear un ejemplo de pipe con tres funciones"
      ]
    },
    {
      "metadata": {
        "id": "io1Pv6Kg_YmT",
        "colab_type": "code",
        "colab": {},
        "outputId": "8ffe4b3a-9900-45d0-c841-5f6d3944f0a1"
      },
      "cell_type": "code",
      "source": [
        "a = np.random.randint(low=-10, high=10, size=(8,2))\n",
        "df1= pd.DataFrame(data=a, columns=['C1','C2'])\n",
        "\n",
        "def f1(df, pow):\n",
        "    return df**pow\n",
        "\n",
        "def f2(df):\n",
        "    return df + df\n",
        "\n",
        "def f3(df, n):\n",
        "    return (df/n)\n",
        "\n",
        "df1.pipe(f1, 5).pipe(f2).pipe(f3,4)\n"
      ],
      "execution_count": 0,
      "outputs": [
        {
          "output_type": "execute_result",
          "data": {
            "text/html": [
              "<div>\n",
              "<style scoped>\n",
              "    .dataframe tbody tr th:only-of-type {\n",
              "        vertical-align: middle;\n",
              "    }\n",
              "\n",
              "    .dataframe tbody tr th {\n",
              "        vertical-align: top;\n",
              "    }\n",
              "\n",
              "    .dataframe thead th {\n",
              "        text-align: right;\n",
              "    }\n",
              "</style>\n",
              "<table border=\"1\" class=\"dataframe\">\n",
              "  <thead>\n",
              "    <tr style=\"text-align: right;\">\n",
              "      <th></th>\n",
              "      <th>C1</th>\n",
              "      <th>C2</th>\n",
              "    </tr>\n",
              "  </thead>\n",
              "  <tbody>\n",
              "    <tr>\n",
              "      <th>0</th>\n",
              "      <td>-121.5</td>\n",
              "      <td>29524.5</td>\n",
              "    </tr>\n",
              "    <tr>\n",
              "      <th>1</th>\n",
              "      <td>3888.0</td>\n",
              "      <td>512.0</td>\n",
              "    </tr>\n",
              "    <tr>\n",
              "      <th>2</th>\n",
              "      <td>-3888.0</td>\n",
              "      <td>3888.0</td>\n",
              "    </tr>\n",
              "    <tr>\n",
              "      <th>3</th>\n",
              "      <td>-16.0</td>\n",
              "      <td>1562.5</td>\n",
              "    </tr>\n",
              "    <tr>\n",
              "      <th>4</th>\n",
              "      <td>-8403.5</td>\n",
              "      <td>-512.0</td>\n",
              "    </tr>\n",
              "    <tr>\n",
              "      <th>5</th>\n",
              "      <td>-512.0</td>\n",
              "      <td>-1562.5</td>\n",
              "    </tr>\n",
              "    <tr>\n",
              "      <th>6</th>\n",
              "      <td>121.5</td>\n",
              "      <td>16.0</td>\n",
              "    </tr>\n",
              "    <tr>\n",
              "      <th>7</th>\n",
              "      <td>-8403.5</td>\n",
              "      <td>512.0</td>\n",
              "    </tr>\n",
              "  </tbody>\n",
              "</table>\n",
              "</div>"
            ],
            "text/plain": [
              "       C1       C2\n",
              "0  -121.5  29524.5\n",
              "1  3888.0    512.0\n",
              "2 -3888.0   3888.0\n",
              "3   -16.0   1562.5\n",
              "4 -8403.5   -512.0\n",
              "5  -512.0  -1562.5\n",
              "6   121.5     16.0\n",
              "7 -8403.5    512.0"
            ]
          },
          "metadata": {
            "tags": []
          },
          "execution_count": 13
        }
      ]
    },
    {
      "metadata": {
        "id": "dVTWDcuO_Ymb",
        "colab_type": "text"
      },
      "cell_type": "markdown",
      "source": [
        "Calculo del indice de masa corporal"
      ]
    },
    {
      "metadata": {
        "id": "xdgdRxds_Ymd",
        "colab_type": "code",
        "colab": {},
        "outputId": "fdd2055b-633e-41d8-9e0d-14f9367c8079"
      },
      "cell_type": "code",
      "source": [
        "pesos = np.random.randint(low=50, high=90, size=(8))\n",
        "estaturas = np.random.ranf(8)*1.2 + 1\n",
        "df2= pd.DataFrame({'Pesos': pesos, 'Estaturas': estaturas})\n",
        "\n",
        "df2.apply(lambda x: x[1]/(x[0]*x[0]), axis=1)\n"
      ],
      "execution_count": 0,
      "outputs": [
        {
          "output_type": "execute_result",
          "data": {
            "text/plain": [
              "0    33.549191\n",
              "1    48.562572\n",
              "2    19.482144\n",
              "3    41.176076\n",
              "4    83.763057\n",
              "5    38.352255\n",
              "6    58.304793\n",
              "7    56.219191\n",
              "dtype: float64"
            ]
          },
          "metadata": {
            "tags": []
          },
          "execution_count": 32
        }
      ]
    },
    {
      "metadata": {
        "id": "bl8MrZhu_Ymj",
        "colab_type": "text"
      },
      "cell_type": "markdown",
      "source": [
        "Valores estadisticos de dataframe: promedio, media, curtosis, desviación estandar y varianza"
      ]
    },
    {
      "metadata": {
        "id": "w7yX9pjy_Ymj",
        "colab_type": "code",
        "colab": {},
        "outputId": "3939a2d4-889b-4208-9b11-210ead5d9dc9"
      },
      "cell_type": "code",
      "source": [
        "a = np.random.randint(low=-10, high=10, size=(500,5))\n",
        "df3= pd.DataFrame(data=a, columns=['C1','C2','C3','C4','C5'])\n",
        "\n",
        "df3.agg(['mean', 'median', 'kurt', 'std', 'var'])"
      ],
      "execution_count": 0,
      "outputs": [
        {
          "output_type": "execute_result",
          "data": {
            "text/html": [
              "<div>\n",
              "<style scoped>\n",
              "    .dataframe tbody tr th:only-of-type {\n",
              "        vertical-align: middle;\n",
              "    }\n",
              "\n",
              "    .dataframe tbody tr th {\n",
              "        vertical-align: top;\n",
              "    }\n",
              "\n",
              "    .dataframe thead th {\n",
              "        text-align: right;\n",
              "    }\n",
              "</style>\n",
              "<table border=\"1\" class=\"dataframe\">\n",
              "  <thead>\n",
              "    <tr style=\"text-align: right;\">\n",
              "      <th></th>\n",
              "      <th>C1</th>\n",
              "      <th>C2</th>\n",
              "      <th>C3</th>\n",
              "      <th>C4</th>\n",
              "      <th>C5</th>\n",
              "    </tr>\n",
              "  </thead>\n",
              "  <tbody>\n",
              "    <tr>\n",
              "      <th>mean</th>\n",
              "      <td>-0.644000</td>\n",
              "      <td>-0.910000</td>\n",
              "      <td>-0.838000</td>\n",
              "      <td>-0.414000</td>\n",
              "      <td>-0.690000</td>\n",
              "    </tr>\n",
              "    <tr>\n",
              "      <th>median</th>\n",
              "      <td>-1.000000</td>\n",
              "      <td>-1.000000</td>\n",
              "      <td>-1.000000</td>\n",
              "      <td>0.000000</td>\n",
              "      <td>-1.000000</td>\n",
              "    </tr>\n",
              "    <tr>\n",
              "      <th>kurt</th>\n",
              "      <td>-1.262164</td>\n",
              "      <td>-1.271882</td>\n",
              "      <td>-1.130719</td>\n",
              "      <td>-1.150746</td>\n",
              "      <td>-1.316980</td>\n",
              "    </tr>\n",
              "    <tr>\n",
              "      <th>std</th>\n",
              "      <td>5.827279</td>\n",
              "      <td>5.975392</td>\n",
              "      <td>5.649033</td>\n",
              "      <td>5.663458</td>\n",
              "      <td>5.943783</td>\n",
              "    </tr>\n",
              "    <tr>\n",
              "      <th>var</th>\n",
              "      <td>33.957178</td>\n",
              "      <td>35.705311</td>\n",
              "      <td>31.911579</td>\n",
              "      <td>32.074754</td>\n",
              "      <td>35.328557</td>\n",
              "    </tr>\n",
              "  </tbody>\n",
              "</table>\n",
              "</div>"
            ],
            "text/plain": [
              "               C1         C2         C3         C4         C5\n",
              "mean    -0.644000  -0.910000  -0.838000  -0.414000  -0.690000\n",
              "median  -1.000000  -1.000000  -1.000000   0.000000  -1.000000\n",
              "kurt    -1.262164  -1.271882  -1.130719  -1.150746  -1.316980\n",
              "std      5.827279   5.975392   5.649033   5.663458   5.943783\n",
              "var     33.957178  35.705311  31.911579  32.074754  35.328557"
            ]
          },
          "metadata": {
            "tags": []
          },
          "execution_count": 44
        }
      ]
    },
    {
      "metadata": {
        "id": "mV48388m_Ymm",
        "colab_type": "text"
      },
      "cell_type": "markdown",
      "source": [
        "Valor de productos en un año"
      ]
    },
    {
      "metadata": {
        "id": "EXC-kLX0_Ymn",
        "colab_type": "code",
        "colab": {},
        "outputId": "b2ccbf24-07fb-4282-b4f6-80ba7728179a"
      },
      "cell_type": "code",
      "source": [
        "p1 = np.random.randint(low=150, high=200, size=(12))*10\n",
        "p2 = np.random.randint(low=100, high=150, size=(12))*10\n",
        "p3 = np.random.randint(low=150, high=200, size=(12))*10\n",
        "df4= pd.DataFrame({\n",
        "    'Chocorramo': p1,\n",
        "    'Agua cielo': p2,\n",
        "    'Aguila': p3\n",
        "})\n",
        "df4 = df4.T\n",
        "df4.columns = ['enero','febrero','marzo','abril','mayo' ,'junio' ,'julio' ,'agosto', 'septiembre', 'octubre', 'noviembre', 'diciembre']\n",
        "\n",
        "def dolares(x):\n",
        "    return x*0.00033\n",
        "def euros(x):\n",
        "    return x*0.00029\n",
        "def libras(x):\n",
        "    return x*0.00025\n",
        "\n",
        "df4.transform([dolares, euros, libras])"
      ],
      "execution_count": 0,
      "outputs": [
        {
          "output_type": "execute_result",
          "data": {
            "text/html": [
              "<div>\n",
              "<style scoped>\n",
              "    .dataframe tbody tr th:only-of-type {\n",
              "        vertical-align: middle;\n",
              "    }\n",
              "\n",
              "    .dataframe tbody tr th {\n",
              "        vertical-align: top;\n",
              "    }\n",
              "\n",
              "    .dataframe thead tr th {\n",
              "        text-align: left;\n",
              "    }\n",
              "</style>\n",
              "<table border=\"1\" class=\"dataframe\">\n",
              "  <thead>\n",
              "    <tr>\n",
              "      <th></th>\n",
              "      <th colspan=\"3\" halign=\"left\">enero</th>\n",
              "      <th colspan=\"3\" halign=\"left\">febrero</th>\n",
              "      <th colspan=\"3\" halign=\"left\">marzo</th>\n",
              "      <th>abril</th>\n",
              "      <th>...</th>\n",
              "      <th>septiembre</th>\n",
              "      <th colspan=\"3\" halign=\"left\">octubre</th>\n",
              "      <th colspan=\"3\" halign=\"left\">noviembre</th>\n",
              "      <th colspan=\"3\" halign=\"left\">diciembre</th>\n",
              "    </tr>\n",
              "    <tr>\n",
              "      <th></th>\n",
              "      <th>dolares</th>\n",
              "      <th>euros</th>\n",
              "      <th>libras</th>\n",
              "      <th>dolares</th>\n",
              "      <th>euros</th>\n",
              "      <th>libras</th>\n",
              "      <th>dolares</th>\n",
              "      <th>euros</th>\n",
              "      <th>libras</th>\n",
              "      <th>dolares</th>\n",
              "      <th>...</th>\n",
              "      <th>libras</th>\n",
              "      <th>dolares</th>\n",
              "      <th>euros</th>\n",
              "      <th>libras</th>\n",
              "      <th>dolares</th>\n",
              "      <th>euros</th>\n",
              "      <th>libras</th>\n",
              "      <th>dolares</th>\n",
              "      <th>euros</th>\n",
              "      <th>libras</th>\n",
              "    </tr>\n",
              "  </thead>\n",
              "  <tbody>\n",
              "    <tr>\n",
              "      <th>Agua cielo</th>\n",
              "      <td>0.3993</td>\n",
              "      <td>0.3509</td>\n",
              "      <td>0.3025</td>\n",
              "      <td>0.4290</td>\n",
              "      <td>0.3770</td>\n",
              "      <td>0.3250</td>\n",
              "      <td>0.4224</td>\n",
              "      <td>0.3712</td>\n",
              "      <td>0.3200</td>\n",
              "      <td>0.3696</td>\n",
              "      <td>...</td>\n",
              "      <td>0.2675</td>\n",
              "      <td>0.3960</td>\n",
              "      <td>0.3480</td>\n",
              "      <td>0.3000</td>\n",
              "      <td>0.3960</td>\n",
              "      <td>0.3480</td>\n",
              "      <td>0.3000</td>\n",
              "      <td>0.4884</td>\n",
              "      <td>0.4292</td>\n",
              "      <td>0.3700</td>\n",
              "    </tr>\n",
              "    <tr>\n",
              "      <th>Aguila</th>\n",
              "      <td>0.5841</td>\n",
              "      <td>0.5133</td>\n",
              "      <td>0.4425</td>\n",
              "      <td>0.5511</td>\n",
              "      <td>0.4843</td>\n",
              "      <td>0.4175</td>\n",
              "      <td>0.5643</td>\n",
              "      <td>0.4959</td>\n",
              "      <td>0.4275</td>\n",
              "      <td>0.5445</td>\n",
              "      <td>...</td>\n",
              "      <td>0.4475</td>\n",
              "      <td>0.5115</td>\n",
              "      <td>0.4495</td>\n",
              "      <td>0.3875</td>\n",
              "      <td>0.6204</td>\n",
              "      <td>0.5452</td>\n",
              "      <td>0.4700</td>\n",
              "      <td>0.5313</td>\n",
              "      <td>0.4669</td>\n",
              "      <td>0.4025</td>\n",
              "    </tr>\n",
              "    <tr>\n",
              "      <th>Chocorramo</th>\n",
              "      <td>0.6171</td>\n",
              "      <td>0.5423</td>\n",
              "      <td>0.4675</td>\n",
              "      <td>0.5148</td>\n",
              "      <td>0.4524</td>\n",
              "      <td>0.3900</td>\n",
              "      <td>0.5940</td>\n",
              "      <td>0.5220</td>\n",
              "      <td>0.4500</td>\n",
              "      <td>0.5082</td>\n",
              "      <td>...</td>\n",
              "      <td>0.4150</td>\n",
              "      <td>0.6501</td>\n",
              "      <td>0.5713</td>\n",
              "      <td>0.4925</td>\n",
              "      <td>0.5049</td>\n",
              "      <td>0.4437</td>\n",
              "      <td>0.3825</td>\n",
              "      <td>0.6006</td>\n",
              "      <td>0.5278</td>\n",
              "      <td>0.4550</td>\n",
              "    </tr>\n",
              "  </tbody>\n",
              "</table>\n",
              "<p>3 rows × 36 columns</p>\n",
              "</div>"
            ],
            "text/plain": [
              "             enero                 febrero                   marzo          \\\n",
              "           dolares   euros  libras dolares   euros  libras dolares   euros   \n",
              "Agua cielo  0.3993  0.3509  0.3025  0.4290  0.3770  0.3250  0.4224  0.3712   \n",
              "Aguila      0.5841  0.5133  0.4425  0.5511  0.4843  0.4175  0.5643  0.4959   \n",
              "Chocorramo  0.6171  0.5423  0.4675  0.5148  0.4524  0.3900  0.5940  0.5220   \n",
              "\n",
              "                     abril   ...   septiembre octubre                  \\\n",
              "            libras dolares   ...       libras dolares   euros  libras   \n",
              "Agua cielo  0.3200  0.3696   ...       0.2675  0.3960  0.3480  0.3000   \n",
              "Aguila      0.4275  0.5445   ...       0.4475  0.5115  0.4495  0.3875   \n",
              "Chocorramo  0.4500  0.5082   ...       0.4150  0.6501  0.5713  0.4925   \n",
              "\n",
              "           noviembre                 diciembre                  \n",
              "             dolares   euros  libras   dolares   euros  libras  \n",
              "Agua cielo    0.3960  0.3480  0.3000    0.4884  0.4292  0.3700  \n",
              "Aguila        0.6204  0.5452  0.4700    0.5313  0.4669  0.4025  \n",
              "Chocorramo    0.5049  0.4437  0.3825    0.6006  0.5278  0.4550  \n",
              "\n",
              "[3 rows x 36 columns]"
            ]
          },
          "metadata": {
            "tags": []
          },
          "execution_count": 51
        }
      ]
    },
    {
      "metadata": {
        "id": "wdF-R9yb_Ymp",
        "colab_type": "text"
      },
      "cell_type": "markdown",
      "source": [
        "Conversion de pesos a dolares"
      ]
    },
    {
      "metadata": {
        "id": "2gd3gE3H_Ymq",
        "colab_type": "code",
        "colab": {},
        "outputId": "255d4c64-b154-4ef4-c0b1-3552b3bf3fe4"
      },
      "cell_type": "code",
      "source": [
        "df4.applymap(dolares)"
      ],
      "execution_count": 0,
      "outputs": [
        {
          "output_type": "execute_result",
          "data": {
            "text/html": [
              "<div>\n",
              "<style scoped>\n",
              "    .dataframe tbody tr th:only-of-type {\n",
              "        vertical-align: middle;\n",
              "    }\n",
              "\n",
              "    .dataframe tbody tr th {\n",
              "        vertical-align: top;\n",
              "    }\n",
              "\n",
              "    .dataframe thead th {\n",
              "        text-align: right;\n",
              "    }\n",
              "</style>\n",
              "<table border=\"1\" class=\"dataframe\">\n",
              "  <thead>\n",
              "    <tr style=\"text-align: right;\">\n",
              "      <th></th>\n",
              "      <th>enero</th>\n",
              "      <th>febrero</th>\n",
              "      <th>marzo</th>\n",
              "      <th>abril</th>\n",
              "      <th>mayo</th>\n",
              "      <th>junio</th>\n",
              "      <th>julio</th>\n",
              "      <th>agosto</th>\n",
              "      <th>septiembre</th>\n",
              "      <th>octubre</th>\n",
              "      <th>noviembre</th>\n",
              "      <th>diciembre</th>\n",
              "    </tr>\n",
              "  </thead>\n",
              "  <tbody>\n",
              "    <tr>\n",
              "      <th>Agua cielo</th>\n",
              "      <td>0.3993</td>\n",
              "      <td>0.4290</td>\n",
              "      <td>0.4224</td>\n",
              "      <td>0.3696</td>\n",
              "      <td>0.3630</td>\n",
              "      <td>0.3300</td>\n",
              "      <td>0.4158</td>\n",
              "      <td>0.3366</td>\n",
              "      <td>0.3531</td>\n",
              "      <td>0.3960</td>\n",
              "      <td>0.3960</td>\n",
              "      <td>0.4884</td>\n",
              "    </tr>\n",
              "    <tr>\n",
              "      <th>Aguila</th>\n",
              "      <td>0.5841</td>\n",
              "      <td>0.5511</td>\n",
              "      <td>0.5643</td>\n",
              "      <td>0.5445</td>\n",
              "      <td>0.4950</td>\n",
              "      <td>0.5544</td>\n",
              "      <td>0.5709</td>\n",
              "      <td>0.6270</td>\n",
              "      <td>0.5907</td>\n",
              "      <td>0.5115</td>\n",
              "      <td>0.6204</td>\n",
              "      <td>0.5313</td>\n",
              "    </tr>\n",
              "    <tr>\n",
              "      <th>Chocorramo</th>\n",
              "      <td>0.6171</td>\n",
              "      <td>0.5148</td>\n",
              "      <td>0.5940</td>\n",
              "      <td>0.5082</td>\n",
              "      <td>0.6567</td>\n",
              "      <td>0.5181</td>\n",
              "      <td>0.6171</td>\n",
              "      <td>0.6534</td>\n",
              "      <td>0.5478</td>\n",
              "      <td>0.6501</td>\n",
              "      <td>0.5049</td>\n",
              "      <td>0.6006</td>\n",
              "    </tr>\n",
              "  </tbody>\n",
              "</table>\n",
              "</div>"
            ],
            "text/plain": [
              "             enero  febrero   marzo   abril    mayo   junio   julio  agosto  \\\n",
              "Agua cielo  0.3993   0.4290  0.4224  0.3696  0.3630  0.3300  0.4158  0.3366   \n",
              "Aguila      0.5841   0.5511  0.5643  0.5445  0.4950  0.5544  0.5709  0.6270   \n",
              "Chocorramo  0.6171   0.5148  0.5940  0.5082  0.6567  0.5181  0.6171  0.6534   \n",
              "\n",
              "            septiembre  octubre  noviembre  diciembre  \n",
              "Agua cielo      0.3531   0.3960     0.3960     0.4884  \n",
              "Aguila          0.5907   0.5115     0.6204     0.5313  \n",
              "Chocorramo      0.5478   0.6501     0.5049     0.6006  "
            ]
          },
          "metadata": {
            "tags": []
          },
          "execution_count": 52
        }
      ]
    }
  ]
}